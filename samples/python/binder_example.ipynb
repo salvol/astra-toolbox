{
 "cells": [
  {
   "cell_type": "code",
   "execution_count": null,
   "metadata": {
    "collapsed": true
   },
   "outputs": [],
   "source": [
    "import astra\n",
    "import numpy as np\n",
    "\n",
    "vol_geom = astra.create_vol_geom(256, 256)\n",
    "proj_geom = astra.create_proj_geom('parallel', 1.0, 384, np.linspace(0,np.pi,180,False))\n",
    "\n",
    "# For CPU-based algorithms, a \"projector\" object specifies the projection\n",
    "# model used. In this case, we use the \"strip\" model.\n",
    "proj_id = astra.create_projector('strip', proj_geom, vol_geom)\n",
    "\n",
    "# Create a sinogram from a phantom\n",
    "import scipy.io\n",
    "P = scipy.io.loadmat('phantom.mat')['phantom256']\n",
    "sinogram_id, sinogram = astra.create_sino(P, proj_id)\n",
    "\n",
    "sinogram.shape"
   ]
  }
 ],
 "metadata": {
  "kernelspec": {
   "display_name": "Python 3",
   "language": "python",
   "name": "python3"
  },
  "language_info": {
   "codemirror_mode": {
    "name": "ipython",
    "version": 3
   },
   "file_extension": ".py",
   "mimetype": "text/x-python",
   "name": "python",
   "nbconvert_exporter": "python",
   "pygments_lexer": "ipython3",
   "version": "3.8.5"
  }
 },
 "nbformat": 4,
 "nbformat_minor": 1
}